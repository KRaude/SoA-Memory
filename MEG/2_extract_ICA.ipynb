{
 "cells": [
  {
   "cell_type": "code",
   "execution_count": null,
   "id": "19d83947",
   "metadata": {},
   "outputs": [],
   "source": [
    "# Author : Raude Killian\n",
    "# Last modified 16.07.205\n",
    "# Last Check by Qiaoyue 15.07.2025"
   ]
  },
  {
   "cell_type": "code",
   "execution_count": null,
   "id": "bf01c18b",
   "metadata": {},
   "outputs": [],
   "source": [
    "import mne\n",
    "import matplotlib.pyplot as plt\n",
    "import pandas as pd\n",
    "import os\n",
    "import warnings\n",
    "%matplotlib inline\n",
    "\n",
    "PARTICIPANTS_FILE = r\"L:\\Common\\Users\\Qiaoyue\\MEG_project\\Data\\participants.csv\"\n",
    "\n",
    "warnings.filterwarnings(\"ignore\", category=RuntimeWarning)\n",
    "warnings.filterwarnings(\"ignore\", category=UserWarning)\n",
    "\n",
    "participants = pd.read_csv(PARTICIPANTS_FILE)  \n",
    "participants = participants['subID'].astype(str).tolist()\n",
    "sessions = [\"encoding\", \"recall\"]\n",
    "\n",
    "print(f\"✅ {len(participants)} participants list : {participants}\")"
   ]
  },
  {
   "cell_type": "code",
   "execution_count": null,
   "id": "dee86dc9",
   "metadata": {},
   "outputs": [],
   "source": [
    "# For tests purposes\n",
    "#participants = [\"F103\"]\n",
    "#sessions = [\"encoding\"]"
   ]
  },
  {
   "cell_type": "code",
   "execution_count": null,
   "id": "e9ad5f17",
   "metadata": {},
   "outputs": [],
   "source": [
    "#Run the code once and examine each components for each subjects for each session to decide which one to remove.\n",
    "\n",
    "for subID in participants:\n",
    "    for session in sessions:\n",
    "        plots_folder = rf\"L:\\Common\\Users\\Qiaoyue\\MEG_project\\Results\\plots\\{subID}\"\n",
    "        os.makedirs(plots_folder, exist_ok=True)\n",
    "        \n",
    "        #intermediates_folder = rf\"L:\\Common\\Users\\Qiaoyue\\MEG_project\\Results\\meg_intermediates\\{subID}\"\n",
    "        intermediates_folder = rf\"C:\\Users\\killg\\Desktop\\meg_intermediates\\{subID}\"\n",
    "        os.makedirs(intermediates_folder, exist_ok=True)\n",
    "\n",
    "        print(f\"Preprocessing: {subID}_{session}_session\")\n",
    "        \n",
    "        #Declare filename\n",
    "        sss_meg_filename = rf\"{intermediates_folder}/{subID}_{session}_sss.fif\"\n",
    "        sss_meg_file = mne.io.read_raw_fif(sss_meg_filename, preload=True, verbose=False)\n",
    "\n",
    "        sss_meg_file_filtered = sss_meg_file.copy().pick('meg')\n",
    "\n",
    "        # Downsample, ICA does not need high resolution.\n",
    "        sss_meg_file_filtered.resample(200, verbose=False) \n",
    "\n",
    "        # The 1 Hz highpass is important for removing slow drifts which otherwise would make the ICA decomposition less efficient.\n",
    "        sss_meg_file_filtered.filter(1, 40, verbose=False)\n",
    "\n",
    "        ica = mne.preprocessing.ICA(n_components=0.99, method='fastica', random_state=1906, verbose=False) \n",
    "        ica.fit(sss_meg_file_filtered, verbose=False)\n",
    "        \n",
    "        # Save figures\n",
    "        figs = ica.plot_components(show=False)\n",
    "        for i, fig in enumerate(figs):\n",
    "            fig_path = os.path.join(plots_folder, f\"{subID}_{session}_ICA_component_{i+1}.png\")\n",
    "            fig.savefig(fig_path)\n",
    "            plt.close(fig)\n",
    "        \n",
    "        print(f\"✅ {subID}_{session}_session sucessfully completed  \\n\")"
   ]
  }
 ],
 "metadata": {
  "kernelspec": {
   "display_name": "mne_env",
   "language": "python",
   "name": "python3"
  },
  "language_info": {
   "codemirror_mode": {
    "name": "ipython",
    "version": 3
   },
   "file_extension": ".py",
   "mimetype": "text/x-python",
   "name": "python",
   "nbconvert_exporter": "python",
   "pygments_lexer": "ipython3",
   "version": "3.13.5"
  }
 },
 "nbformat": 4,
 "nbformat_minor": 5
}
