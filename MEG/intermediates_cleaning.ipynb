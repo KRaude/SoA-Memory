{
 "cells": [
  {
   "cell_type": "code",
   "execution_count": 1,
   "id": "3c6e327c",
   "metadata": {},
   "outputs": [],
   "source": [
    "# Author : Raude Killian\n",
    "# Last modified 12.06.2025"
   ]
  },
  {
   "cell_type": "code",
   "execution_count": null,
   "id": "cd0b9915",
   "metadata": {},
   "outputs": [],
   "source": [
    "import os\n",
    "meg_data = rf\"L:\\Common\\Users\\Qiaoyue\\MEG_project\\Results\\meg_intermediates\"\n",
    "meg_data = rf\"C:\\Users\\killg\\Desktop\\meg_intermediates\"\n",
    "plots = rf\"L:\\Common\\Users\\Qiaoyue\\MEG_project\\Results\\plots\"\n",
    "\n",
    "directories = [meg_data, plots]\n",
    "directories = [meg_data]\n",
    "\n",
    "for dir_path in directories:\n",
    "    for root, dirs, files in os.walk(dir_path):\n",
    "        for file in files:\n",
    "            file_path = os.path.join(root, file)\n",
    "            os.remove(file_path)   \n",
    "            #print(file_path)          "
   ]
  }
 ],
 "metadata": {
  "kernelspec": {
   "display_name": "mne_env",
   "language": "python",
   "name": "python3"
  },
  "language_info": {
   "codemirror_mode": {
    "name": "ipython",
    "version": 3
   },
   "file_extension": ".py",
   "mimetype": "text/x-python",
   "name": "python",
   "nbconvert_exporter": "python",
   "pygments_lexer": "ipython3",
   "version": "3.13.5"
  }
 },
 "nbformat": 4,
 "nbformat_minor": 5
}
